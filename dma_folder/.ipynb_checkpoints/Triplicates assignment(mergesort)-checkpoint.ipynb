{
 "cells": [
  {
   "cell_type": "code",
   "execution_count": 2,
   "id": "84d4fcb7",
   "metadata": {},
   "outputs": [],
   "source": [
    "import numpy"
   ]
  },
  {
   "cell_type": "code",
   "execution_count": 3,
   "id": "738e89a1",
   "metadata": {},
   "outputs": [],
   "source": [
    "list1 = ['Marion Ortega',\n",
    "'Kaden Frost',\n",
    "'Krish Sharp',\n",
    "'Romeo Strickland',\n",
    "'Jemima Hansen']\n",
    "\n",
    "list2 = ['Bruce Stephenson',\n",
    "'Betty Walters',\n",
    "'Theodore Walsh',\n",
    "'Krish Sharp',\n",
    "'Farrah Campbell']\n",
    "\n",
    "list3 = ['Pedro Stark',\n",
    "'Krish Sharp',\n",
    "'Aaminah Bonner',\n",
    "'Neha Montes',\n",
    "'Ines Dickson']"
   ]
  },
  {
   "cell_type": "code",
   "execution_count": 8,
   "id": "6f01d196",
   "metadata": {},
   "outputs": [],
   "source": [
    "def merge_sort(arr):\n",
    "    \n",
    "    if len(arr) <= 1:\n",
    "        return arr\n",
    "    \n",
    "    mid = len(arr) // 2\n",
    "    left = arr[:mid]\n",
    "    right = arr[mid:]\n",
    "    \n",
    "    sort_left = merge_sort(left)\n",
    "    sort_right = merge_sort(right)\n",
    "    \n",
    "    result = []\n",
    "    i = j = 0\n",
    "    while i < len(sort_left) and j < len(sort_right):\n",
    "        if sort_left[i] < sort_right[j]:\n",
    "            result.append(sort_left[i])\n",
    "            i += 1\n",
    "        else:\n",
    "            result.append(sort_right[j])\n",
    "            j += 1\n",
    "    result += sort_left[i:]\n",
    "    result += sort_right[j:]\n",
    "    \n",
    "    return result"
   ]
  },
  {
   "cell_type": "code",
   "execution_count": 17,
   "id": "11d5f311",
   "metadata": {},
   "outputs": [],
   "source": [
    "merge_sort(list1)\n",
    "merge_sort(list2)\n",
    "merge_sort(list3)\n",
    "\n",
    "i = j = k = 0\n",
    "\n",
    "while i < len(list1) and j < len(list1) and k < len(list1):\n",
    "    if list1[i] == list2[j] and list1[i] == list3[k]: \n",
    "        print(list1[i])\n",
    "    \n",
    "    elif list1[i] < list2[j] or list1[i] < list3[k]:\n",
    "        i += 1\n",
    "    elif list1[j] < list2[i] or list1[j] < list3[k]:\n",
    "        j += 1\n",
    "    else:\n",
    "        k += 1\n",
    "    \n",
    "    \n",
    "    \n"
   ]
  }
 ],
 "metadata": {
  "kernelspec": {
   "display_name": "Python 3 (ipykernel)",
   "language": "python",
   "name": "python3"
  },
  "language_info": {
   "codemirror_mode": {
    "name": "ipython",
    "version": 3
   },
   "file_extension": ".py",
   "mimetype": "text/x-python",
   "name": "python",
   "nbconvert_exporter": "python",
   "pygments_lexer": "ipython3",
   "version": "3.9.13"
  }
 },
 "nbformat": 4,
 "nbformat_minor": 5
}
