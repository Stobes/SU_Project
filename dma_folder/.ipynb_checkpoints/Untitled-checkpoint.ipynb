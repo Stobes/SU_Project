{
 "cells": [
  {
   "cell_type": "code",
   "execution_count": 3,
   "id": "54e6da6a",
   "metadata": {},
   "outputs": [],
   "source": [
    "#A. \tIn the Sharepoint folder “Exercises” are 3 .txt files with examples of text encrypted by Caesar encryption (key unknown) : Crypt1.txt, Crypt2.txt and Crypt3.txt.\n",
    "#\tEnglish alphabet has been used and only letters have been encrypted.\n",
    "\n",
    "#\tUse statistics to try to find the 3 keys.\n",
    "#\tCount the numbers of the different letters and assume \n",
    "#1.\te is the most common letter\n",
    "#2.\te is the second most common letter\n",
    "#3.\te is the third most common letter\n",
    "#4.\tt is the most common letter"
   ]
  },
  {
   "cell_type": "code",
   "execution_count": 28,
   "id": "1f529fe8",
   "metadata": {},
   "outputs": [],
   "source": [
    "\n",
    "def read_every_letter(filename):\n",
    "    letter_count = {}\n",
    "    with open(filename, 'r') as file:\n",
    "        \n",
    "        contents = file.read()\n",
    "        \n",
    "        for char in contents:\n",
    "            if char.isalpha:\n",
    "                char = char.lower()\n",
    "                if char in letter_count:\n",
    "                    letter_count[char] += 1\n",
    "                else:\n",
    "                    letter_count[char] = 1\n",
    "        print(letter_count)"
   ]
  },
  {
   "cell_type": "code",
   "execution_count": 29,
   "id": "7b7e4ace",
   "metadata": {},
   "outputs": [
    {
     "ename": "NameError",
     "evalue": "name 'sorted_letter_count' is not defined",
     "output_type": "error",
     "traceback": [
      "\u001b[1;31m---------------------------------------------------------------------------\u001b[0m",
      "\u001b[1;31mNameError\u001b[0m                                 Traceback (most recent call last)",
      "\u001b[1;32m~\\AppData\\Local\\Temp\\ipykernel_21556\\3695961455.py\u001b[0m in \u001b[0;36m<module>\u001b[1;34m\u001b[0m\n\u001b[1;32m----> 1\u001b[1;33m \u001b[0mprint\u001b[0m\u001b[1;33m(\u001b[0m\u001b[0mread_every_letter\u001b[0m\u001b[1;33m(\u001b[0m\u001b[1;34m'crypt2.txt'\u001b[0m\u001b[1;33m)\u001b[0m\u001b[1;33m)\u001b[0m\u001b[1;33m\u001b[0m\u001b[1;33m\u001b[0m\u001b[0m\n\u001b[0m",
      "\u001b[1;32m~\\AppData\\Local\\Temp\\ipykernel_21556\\4137183850.py\u001b[0m in \u001b[0;36mread_every_letter\u001b[1;34m(filename)\u001b[0m\n\u001b[0;32m     12\u001b[0m                 \u001b[1;32melse\u001b[0m\u001b[1;33m:\u001b[0m\u001b[1;33m\u001b[0m\u001b[1;33m\u001b[0m\u001b[0m\n\u001b[0;32m     13\u001b[0m                     \u001b[0mletter_count\u001b[0m\u001b[1;33m[\u001b[0m\u001b[0mchar\u001b[0m\u001b[1;33m]\u001b[0m \u001b[1;33m=\u001b[0m \u001b[1;36m1\u001b[0m\u001b[1;33m\u001b[0m\u001b[1;33m\u001b[0m\u001b[0m\n\u001b[1;32m---> 14\u001b[1;33m         \u001b[0mprint\u001b[0m\u001b[1;33m(\u001b[0m\u001b[0msorted_letter_count\u001b[0m\u001b[1;33m)\u001b[0m\u001b[1;33m\u001b[0m\u001b[1;33m\u001b[0m\u001b[0m\n\u001b[0m",
      "\u001b[1;31mNameError\u001b[0m: name 'sorted_letter_count' is not defined"
     ]
    }
   ],
   "source": [
    "print(read_every_letter('crypt2.txt'))"
   ]
  }
 ],
 "metadata": {
  "kernelspec": {
   "display_name": "Python 3 (ipykernel)",
   "language": "python",
   "name": "python3"
  },
  "language_info": {
   "codemirror_mode": {
    "name": "ipython",
    "version": 3
   },
   "file_extension": ".py",
   "mimetype": "text/x-python",
   "name": "python",
   "nbconvert_exporter": "python",
   "pygments_lexer": "ipython3",
   "version": "3.9.13"
  }
 },
 "nbformat": 4,
 "nbformat_minor": 5
}
