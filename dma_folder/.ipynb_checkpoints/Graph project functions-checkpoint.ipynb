{
 "cells": [
  {
   "cell_type": "code",
   "execution_count": 2,
   "id": "946e6de9",
   "metadata": {},
   "outputs": [],
   "source": [
    "import requests\n",
    "import pandas as pd\n",
    "import numpy as np\n",
    "import json\n",
    "import folium\n",
    "\n",
    "api_key = \"tL6lWEb1UKgKz1n2FmKGhXFheZNPQdaW\""
   ]
  },
  {
   "cell_type": "code",
   "execution_count": 48,
   "id": "c73833db",
   "metadata": {},
   "outputs": [],
   "source": [
    "\n",
    "\n",
    "def initialise_map(start_point, end_point, api_key=api_key, zoom=14, style = \"main\"):\n",
    "    maps_url = \"http://a.api.tomtom.com/map/1/tile/basic/\"+style+\"/{z}/{x}/{y}.png?tileSize=512&key=\"\n",
    "    \n",
    "    start = [int(x) for x in start_point.split(',')]\n",
    "    end = [int(x) for x in end_point.split(',')]\n",
    "    \n",
    "    center = [(start[0] + end[0])/2, (start[1] + end[2])/2]\n",
    "    \n",
    "    TomTom_map = folium.Map(\n",
    "    location = center,\n",
    "    zoom_start = zoom,\n",
    "    tiles = str(maps_url + api_key),\n",
    "    attr = 'TomTom')\n",
    "    return TomTom_map\n",
    "\n"
   ]
  },
  {
   "cell_type": "code",
   "execution_count": 49,
   "id": "b31f13dd",
   "metadata": {},
   "outputs": [
    {
     "name": "stdout",
     "output_type": "stream",
     "text": [
      "('55.93125,12.29628', '55.77165,12.50561')\n"
     ]
    }
   ],
   "source": [
    "\n",
    "start_address = \"Slangerupgade 22a Hillerød 3400\"\n",
    "end_address = \"Nørgaardvej 30 Lyngby 2800\"\n",
    "\n",
    "def get_depature_and_destination_coords(start_address, end_address):\n",
    "    start_address_list = start_address.split()\n",
    "    end_address_list = end_address.split()\n",
    "\n",
    "    geolocation_endpoint = f'https://api.tomtom.com/search/2/structuredGeocode.json?&key={api_key}'\n",
    "\n",
    "    params1 = {\n",
    "        \"countryCode\": \"DK\",\n",
    "        \"streetName\": start_address_list[0],\n",
    "        \"streetNumber\": start_address_list[1],\n",
    "        \"municipality\": start_address_list[2],\n",
    "        \"postalCode\": start_address_list[3],\n",
    "        \"limit\": \"1\"\n",
    "        }\n",
    "    \n",
    "    params2 = {\n",
    "        \"countryCode\": \"DK\",\n",
    "        \"streetName\": end_address_list[0],\n",
    "        \"streetNumber\": end_address_list[1],\n",
    "        \"municipality\": end_address_list[2],\n",
    "        \"postalCode\": end_address_list[3],\n",
    "        \"limit\": \"1\"\n",
    "        }\n",
    "\n",
    "    response1 = requests.get(geolocation_endpoint, params = params1)\n",
    "    start_address_data = response1.json()\n",
    "    \n",
    "    response2 = requests.get(geolocation_endpoint, params = params2)\n",
    "    end_address_data = response2.json()\n",
    "    \n",
    "\n",
    "    start_entry_point = start_address_data[\"results\"][0][\"entryPoints\"][0][\"position\"]\n",
    "    \n",
    "    end_entry_point = end_address_data[\"results\"][0][\"entryPoints\"][0][\"position\"]\n",
    "    \n",
    "    \n",
    "    start_point_string = str(start_entry_point['lat']) +\",\" + str(start_entry_point['lon'])\n",
    "    end_point_string = str(end_entry_point['lat']) +\",\" + str(end_entry_point['lon'])\n",
    "    \n",
    "    \n",
    "    return start_point_string, end_point_string;\n",
    "\n",
    "\n",
    "print(get_depature_and_destination_coords(start_address, end_address))"
   ]
  },
  {
   "cell_type": "code",
   "execution_count": 50,
   "id": "454d12b1",
   "metadata": {},
   "outputs": [
    {
     "ename": "SyntaxError",
     "evalue": "invalid syntax (1158031621.py, line 34)",
     "output_type": "error",
     "traceback": [
      "\u001b[1;36m  File \u001b[1;32m\"C:\\Users\\45319\\AppData\\Local\\Temp\\ipykernel_10716\\1158031621.py\"\u001b[1;36m, line \u001b[1;32m34\u001b[0m\n\u001b[1;33m    if \"\"\u001b[0m\n\u001b[1;37m         ^\u001b[0m\n\u001b[1;31mSyntaxError\u001b[0m\u001b[1;31m:\u001b[0m invalid syntax\n"
     ]
    }
   ],
   "source": [
    "#define parameteres for route\n",
    "\n",
    "# Overvej om get_fastest_route \n",
    "\n",
    "start = '55.93125,12.29628' # latitude,longitude of the start location\n",
    "end = '55.77018,12.51145' # latitude,longitude of the end location\n",
    "\n",
    "def get_fastest_route(start_coords, end_coords ):\n",
    "    \n",
    "    route_endpoint = f'https://api.tomtom.com/routing/1/calculateRoute/{start_coords}:{end_coords}/json?&key={api_key}'\n",
    "\n",
    "    params = {\n",
    "        \"traffic\": \"false\",\n",
    "        \"travelMode\": \"car\",\n",
    "        \"routeType\": \"fastest\",\n",
    "        \"instructionsType\": \"text\",\n",
    "        \"language\": \"en-US\",\n",
    "        \"computeBestOrder\": \"false\",\n",
    "        }\n",
    "\n",
    "    response = requests.get(route_endpoint, params=params)\n",
    "    data = response.json()\n",
    "\n",
    "    route_geo = data[\"routes\"][0][\"legs\"][0][\"points\"]\n",
    "\n",
    "    points = [(c['latitude'], c['longitude']) for c in route_geo]\n",
    "\n",
    "    folium.PolyLine(locations=points, color='red').add_to(TomTom_map)\n",
    "    \n",
    "    \n",
    "    instructions_list = data[\"routes\"][0][\"guidance\"][\"instructions\"]\n",
    "    \n",
    "    for instruct in instructions_list:\n",
    "        if \"combinedMessage\" in instuct:\n",
    "            print(instruct[\"combinedMessage\"])\n",
    "        else:   \n",
    "            print(instruct[\"message\"])\n",
    "    \n",
    "    return "
   ]
  },
  {
   "cell_type": "code",
   "execution_count": 46,
   "id": "3baca498",
   "metadata": {},
   "outputs": [
    {
     "ename": "ValueError",
     "evalue": "Expected two (lat, lon) values for location, instead got: '55.77165,12.50561'.",
     "output_type": "error",
     "traceback": [
      "\u001b[1;31m---------------------------------------------------------------------------\u001b[0m",
      "\u001b[1;31mValueError\u001b[0m                                Traceback (most recent call last)",
      "\u001b[1;32m~\\AppData\\Local\\Temp\\ipykernel_10716\\3842206818.py\u001b[0m in \u001b[0;36m<module>\u001b[1;34m\u001b[0m\n\u001b[0;32m      1\u001b[0m \u001b[0mstart\u001b[0m\u001b[1;33m,\u001b[0m \u001b[0mend\u001b[0m \u001b[1;33m=\u001b[0m \u001b[0mget_depature_and_destination_coords\u001b[0m\u001b[1;33m(\u001b[0m\u001b[0mstart_address\u001b[0m\u001b[1;33m,\u001b[0m \u001b[0mend_address\u001b[0m\u001b[1;33m)\u001b[0m\u001b[1;33m\u001b[0m\u001b[1;33m\u001b[0m\u001b[0m\n\u001b[0;32m      2\u001b[0m \u001b[1;33m\u001b[0m\u001b[0m\n\u001b[1;32m----> 3\u001b[1;33m \u001b[0mTomTom_map\u001b[0m \u001b[1;33m=\u001b[0m \u001b[0minitialise_map\u001b[0m\u001b[1;33m(\u001b[0m\u001b[0mstart\u001b[0m\u001b[1;33m,\u001b[0m \u001b[0mend\u001b[0m\u001b[1;33m)\u001b[0m\u001b[1;33m\u001b[0m\u001b[1;33m\u001b[0m\u001b[0m\n\u001b[0m\u001b[0;32m      4\u001b[0m \u001b[1;33m\u001b[0m\u001b[0m\n\u001b[0;32m      5\u001b[0m \u001b[0mget_fastest_route\u001b[0m\u001b[1;33m(\u001b[0m\u001b[0mstart\u001b[0m\u001b[1;33m,\u001b[0m \u001b[0mend\u001b[0m\u001b[1;33m)\u001b[0m\u001b[1;33m\u001b[0m\u001b[1;33m\u001b[0m\u001b[0m\n",
      "\u001b[1;32m~\\AppData\\Local\\Temp\\ipykernel_10716\\2908257630.py\u001b[0m in \u001b[0;36minitialise_map\u001b[1;34m(api_key, location, zoom, style)\u001b[0m\n\u001b[0;32m      1\u001b[0m \u001b[1;32mdef\u001b[0m \u001b[0minitialise_map\u001b[0m\u001b[1;33m(\u001b[0m\u001b[0mapi_key\u001b[0m\u001b[1;33m=\u001b[0m\u001b[0mapi_key\u001b[0m\u001b[1;33m,\u001b[0m \u001b[0mlocation\u001b[0m\u001b[1;33m=\u001b[0m\u001b[1;33m[\u001b[0m\u001b[1;36m55.9312\u001b[0m\u001b[1;33m,\u001b[0m \u001b[1;36m12.29651\u001b[0m\u001b[1;33m]\u001b[0m\u001b[1;33m,\u001b[0m \u001b[0mzoom\u001b[0m\u001b[1;33m=\u001b[0m\u001b[1;36m14\u001b[0m\u001b[1;33m,\u001b[0m \u001b[0mstyle\u001b[0m \u001b[1;33m=\u001b[0m \u001b[1;34m\"main\"\u001b[0m\u001b[1;33m)\u001b[0m\u001b[1;33m:\u001b[0m\u001b[1;33m\u001b[0m\u001b[1;33m\u001b[0m\u001b[0m\n\u001b[0;32m      2\u001b[0m     \u001b[0mmaps_url\u001b[0m \u001b[1;33m=\u001b[0m \u001b[1;34m\"http://a.api.tomtom.com/map/1/tile/basic/\"\u001b[0m\u001b[1;33m+\u001b[0m\u001b[0mstyle\u001b[0m\u001b[1;33m+\u001b[0m\u001b[1;34m\"/{z}/{x}/{y}.png?tileSize=512&key=\"\u001b[0m\u001b[1;33m\u001b[0m\u001b[1;33m\u001b[0m\u001b[0m\n\u001b[1;32m----> 3\u001b[1;33m     TomTom_map = folium.Map(\n\u001b[0m\u001b[0;32m      4\u001b[0m     \u001b[0mlocation\u001b[0m \u001b[1;33m=\u001b[0m \u001b[0mlocation\u001b[0m\u001b[1;33m,\u001b[0m\u001b[1;33m\u001b[0m\u001b[1;33m\u001b[0m\u001b[0m\n\u001b[0;32m      5\u001b[0m     \u001b[0mzoom_start\u001b[0m \u001b[1;33m=\u001b[0m \u001b[0mzoom\u001b[0m\u001b[1;33m,\u001b[0m\u001b[1;33m\u001b[0m\u001b[1;33m\u001b[0m\u001b[0m\n",
      "\u001b[1;32m~\\anaconda3\\lib\\site-packages\\folium\\folium.py\u001b[0m in \u001b[0;36m__init__\u001b[1;34m(self, location, width, height, left, top, position, tiles, attr, min_zoom, max_zoom, zoom_start, min_lat, max_lat, min_lon, max_lon, max_bounds, crs, control_scale, prefer_canvas, no_touch, disable_3d, png_enabled, zoom_control, **kwargs)\u001b[0m\n\u001b[0;32m    272\u001b[0m             \u001b[0mzoom_start\u001b[0m \u001b[1;33m=\u001b[0m \u001b[1;36m1\u001b[0m\u001b[1;33m\u001b[0m\u001b[1;33m\u001b[0m\u001b[0m\n\u001b[0;32m    273\u001b[0m         \u001b[1;32melse\u001b[0m\u001b[1;33m:\u001b[0m\u001b[1;33m\u001b[0m\u001b[1;33m\u001b[0m\u001b[0m\n\u001b[1;32m--> 274\u001b[1;33m             \u001b[0mself\u001b[0m\u001b[1;33m.\u001b[0m\u001b[0mlocation\u001b[0m \u001b[1;33m=\u001b[0m \u001b[0mvalidate_location\u001b[0m\u001b[1;33m(\u001b[0m\u001b[0mlocation\u001b[0m\u001b[1;33m)\u001b[0m\u001b[1;33m\u001b[0m\u001b[1;33m\u001b[0m\u001b[0m\n\u001b[0m\u001b[0;32m    275\u001b[0m \u001b[1;33m\u001b[0m\u001b[0m\n\u001b[0;32m    276\u001b[0m         \u001b[0mFigure\u001b[0m\u001b[1;33m(\u001b[0m\u001b[1;33m)\u001b[0m\u001b[1;33m.\u001b[0m\u001b[0madd_child\u001b[0m\u001b[1;33m(\u001b[0m\u001b[0mself\u001b[0m\u001b[1;33m)\u001b[0m\u001b[1;33m\u001b[0m\u001b[1;33m\u001b[0m\u001b[0m\n",
      "\u001b[1;32m~\\anaconda3\\lib\\site-packages\\folium\\utilities.py\u001b[0m in \u001b[0;36mvalidate_location\u001b[1;34m(location)\u001b[0m\n\u001b[0;32m     52\u001b[0m         )\n\u001b[0;32m     53\u001b[0m     \u001b[1;32mif\u001b[0m \u001b[0mlen\u001b[0m\u001b[1;33m(\u001b[0m\u001b[0mlocation\u001b[0m\u001b[1;33m)\u001b[0m \u001b[1;33m!=\u001b[0m \u001b[1;36m2\u001b[0m\u001b[1;33m:\u001b[0m\u001b[1;33m\u001b[0m\u001b[1;33m\u001b[0m\u001b[0m\n\u001b[1;32m---> 54\u001b[1;33m         raise ValueError(\n\u001b[0m\u001b[0;32m     55\u001b[0m             \u001b[1;34m\"Expected two (lat, lon) values for location, \"\u001b[0m\u001b[1;33m\u001b[0m\u001b[1;33m\u001b[0m\u001b[0m\n\u001b[0;32m     56\u001b[0m             \u001b[1;34m\"instead got: {!r}.\"\u001b[0m\u001b[1;33m.\u001b[0m\u001b[0mformat\u001b[0m\u001b[1;33m(\u001b[0m\u001b[0mlocation\u001b[0m\u001b[1;33m)\u001b[0m\u001b[1;33m\u001b[0m\u001b[1;33m\u001b[0m\u001b[0m\n",
      "\u001b[1;31mValueError\u001b[0m: Expected two (lat, lon) values for location, instead got: '55.77165,12.50561'."
     ]
    }
   ],
   "source": [
    "start, end = get_depature_and_destination_coords(start_address, end_address)\n",
    "\n",
    "TomTom_map = initialise_map(start, end)\n",
    "\n",
    "get_fastest_route(start, end)\n",
    "\n",
    "TomTom_map"
   ]
  }
 ],
 "metadata": {
  "kernelspec": {
   "display_name": "Python 3 (ipykernel)",
   "language": "python",
   "name": "python3"
  },
  "language_info": {
   "codemirror_mode": {
    "name": "ipython",
    "version": 3
   },
   "file_extension": ".py",
   "mimetype": "text/x-python",
   "name": "python",
   "nbconvert_exporter": "python",
   "pygments_lexer": "ipython3",
   "version": "3.9.13"
  }
 },
 "nbformat": 4,
 "nbformat_minor": 5
}
