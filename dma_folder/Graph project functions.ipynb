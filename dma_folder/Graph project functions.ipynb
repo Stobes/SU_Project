{
 "cells": [
  {
   "cell_type": "code",
   "execution_count": 97,
   "id": "946e6de9",
   "metadata": {},
   "outputs": [],
   "source": [
    "import requests\n",
    "import pandas as pd\n",
    "import numpy as np\n",
    "import json\n",
    "import folium\n",
    "\n",
    "api_key = \"tL6lWEb1UKgKz1n2FmKGhXFheZNPQdaW\""
   ]
  },
  {
   "cell_type": "code",
   "execution_count": 98,
   "id": "c73833db",
   "metadata": {},
   "outputs": [],
   "source": [
    "\n",
    "\n",
    "def initialise_map(api_key=api_key, location=[55.9312, 12.29651], zoom=14, style = \"main\"):\n",
    "    maps_url = \"http://a.api.tomtom.com/map/1/tile/basic/\"+style+\"/{z}/{x}/{y}.png?tileSize=512&key=\"\n",
    "    TomTom_map = folium.Map(\n",
    "    location = location,\n",
    "    zoom_start = zoom,\n",
    "    tiles = str(maps_url + api_key),\n",
    "    attr = 'TomTom')\n",
    "    return TomTom_map\n",
    "\n",
    "TomTom_map = initialise_map()"
   ]
  },
  {
   "cell_type": "code",
   "execution_count": 99,
   "id": "2e6a341a",
   "metadata": {},
   "outputs": [
    {
     "name": "stdout",
     "output_type": "stream",
     "text": [
      "({'lat': 55.93125, 'lon': 12.29628}, {'lat': 55.77165, 'lon': 12.50561})\n"
     ]
    }
   ],
   "source": [
    "\n",
    "start_address = \"Slangerupgade 22a Hillerød 3400\"\n",
    "end_address = \"Nørgaardvej 30 Lyngby 2800\"\n",
    "\n",
    "def get_depature_and_destination_coords(start_address, end_address):\n",
    "    start_address_list = start_address.split()\n",
    "    end_address_list = end_address.split()\n",
    "\n",
    "    geolocation_endpoint = f'https://api.tomtom.com/search/2/structuredGeocode.json?&key={api_key}'\n",
    "\n",
    "    params1 = {\n",
    "        \"countryCode\": \"DK\",\n",
    "        \"streetName\": start_address_list[0],\n",
    "        \"streetNumber\": start_address_list[1],\n",
    "        \"municipality\": start_address_list[2],\n",
    "        \"postalCode\": start_address_list[3],\n",
    "        \"limit\": \"1\"\n",
    "        }\n",
    "    \n",
    "    params2 = {\n",
    "        \"countryCode\": \"DK\",\n",
    "        \"streetName\": end_address_list[0],\n",
    "        \"streetNumber\": end_address_list[1],\n",
    "        \"municipality\": end_address_list[2],\n",
    "        \"postalCode\": end_address_list[3],\n",
    "        \"limit\": \"1\"\n",
    "        }\n",
    "\n",
    "    response1 = requests.get(geolocation_endpoint, params = params1)\n",
    "    start_address_data = response1.json()\n",
    "    \n",
    "    response2 = requests.get(geolocation_endpoint, params = params2)\n",
    "    end_address_data = response2.json()\n",
    "    \n",
    "\n",
    "    start_entry_point = start_address_data[\"results\"][0][\"entryPoints\"][0][\"position\"]\n",
    "    \n",
    "    end_entry_point = end_address_data[\"results\"][0][\"entryPoints\"][0][\"position\"]\n",
    "    \n",
    "    return start_entry_point, end_entry_point;\n",
    "\n",
    "\n",
    "print(get_depature_and_destination_coords(start_address, end_address))"
   ]
  },
  {
   "cell_type": "code",
   "execution_count": 101,
   "id": "bb26210c",
   "metadata": {},
   "outputs": [],
   "source": [
    "#define parameteres for route\n",
    "\n",
    "#endpoint = \"https://api.tomtom.com/routing/1/calculateRoute/{}/:{}/json\"\n",
    "\n",
    "start = '55.93125,12.29628' # latitude,longitude of the start location\n",
    "end = '55.77018,12.51145' # latitude,longitude of the end location\n",
    "\n",
    "def get_fastes_route(start_coords, end_coords):\n",
    "    \n",
    "\n",
    "    route_endpoint = f'https://api.tomtom.com/routing/1/calculateRoute/{start_coords}:{end_coords}/json?&key={api_key}'\n",
    "\n",
    "\n",
    "    params = {\n",
    "        \"traffic\": \"false\",\n",
    "        \"travelMode\": \"car\",\n",
    "        \"routeType\": \"fastest\",\n",
    "        \"instructionsType\": \"text\",\n",
    "        \"language\": \"en-US\",\n",
    "        \"computeBestOrder\": \"false\",\n",
    "        }\n",
    "\n",
    "    response = requests.get(route_endpoint, params=params)\n",
    "    data = response.json()\n",
    "\n",
    "\n",
    "    route_geo = data[\"routes\"][0][\"legs\"][0][\"points\"]\n",
    "\n",
    "    points = [(c['latitude'], c['longitude']) for c in route_geo]\n",
    "\n",
    "    folium.PolyLine(locations=points, color='red').add_to(TomTom_map)\n",
    "    \n",
    "    return"
   ]
  },
  {
   "cell_type": "code",
   "execution_count": null,
   "id": "d626a9ac",
   "metadata": {},
   "outputs": [],
   "source": []
  }
 ],
 "metadata": {
  "kernelspec": {
   "display_name": "Python 3 (ipykernel)",
   "language": "python",
   "name": "python3"
  },
  "language_info": {
   "codemirror_mode": {
    "name": "ipython",
    "version": 3
   },
   "file_extension": ".py",
   "mimetype": "text/x-python",
   "name": "python",
   "nbconvert_exporter": "python",
   "pygments_lexer": "ipython3",
   "version": "3.9.13"
  }
 },
 "nbformat": 4,
 "nbformat_minor": 5
}
