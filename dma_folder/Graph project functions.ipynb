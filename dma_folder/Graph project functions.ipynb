{
 "cells": [
  {
   "cell_type": "code",
   "execution_count": 22,
   "id": "946e6de9",
   "metadata": {},
   "outputs": [],
   "source": [
    "import requests\n",
    "import pandas as pd\n",
    "import numpy as np\n",
    "import json\n",
    "import folium\n",
    "from fpdf import FPDF\n",
    "from selenium import webdriver\n",
    "\n",
    "api_key = \"tL6lWEb1UKgKz1n2FmKGhXFheZNPQdaW\""
   ]
  },
  {
   "cell_type": "code",
   "execution_count": 7,
   "id": "c73833db",
   "metadata": {},
   "outputs": [],
   "source": [
    "\n",
    "\n",
    "def initialise_map(start_point, end_point, api_key=api_key, zoom=14, style = \"main\"):\n",
    "    maps_url = \"http://a.api.tomtom.com/map/1/tile/basic/\"+style+\"/{z}/{x}/{y}.png?tileSize=512&key=\"\n",
    "    \n",
    "    start = [float(x) for x in start_point.split(',')]\n",
    "    end = [float(x) for x in end_point.split(',')]\n",
    "    \n",
    "    center = [(start[0] + end[0])/2, (start[1] + end[1])/2]\n",
    "    \n",
    "    TomTom_map = folium.Map(\n",
    "    location = center,\n",
    "    zoom_start = zoom,\n",
    "    tiles = str(maps_url + api_key),\n",
    "    attr = 'TomTom')\n",
    "    \n",
    "    return TomTom_map\n",
    "\n"
   ]
  },
  {
   "cell_type": "code",
   "execution_count": 8,
   "id": "b31f13dd",
   "metadata": {},
   "outputs": [
    {
     "name": "stdout",
     "output_type": "stream",
     "text": [
      "('55.93125,12.29628', '55.77165,12.50561')\n"
     ]
    }
   ],
   "source": [
    "def get_depature_and_destination_coords(start_address, end_address):\n",
    "    start_address_list = start_address.split()\n",
    "    end_address_list = end_address.split()\n",
    "\n",
    "    geolocation_endpoint = f'https://api.tomtom.com/search/2/structuredGeocode.json?&key={api_key}'\n",
    "\n",
    "    params1 = {\n",
    "        \"countryCode\": \"DK\",\n",
    "        \"streetName\": start_address_list[0],\n",
    "        \"streetNumber\": start_address_list[1],\n",
    "        \"municipality\": start_address_list[2],\n",
    "        \"postalCode\": start_address_list[3],\n",
    "        \"limit\": \"1\"\n",
    "        }\n",
    "    \n",
    "    params2 = {\n",
    "        \"countryCode\": \"DK\",\n",
    "        \"streetName\": end_address_list[0],\n",
    "        \"streetNumber\": end_address_list[1],\n",
    "        \"municipality\": end_address_list[2],\n",
    "        \"postalCode\": end_address_list[3],\n",
    "        \"limit\": \"1\"\n",
    "        }\n",
    "\n",
    "    response1 = requests.get(geolocation_endpoint, params = params1)\n",
    "    start_address_data = response1.json()\n",
    "    \n",
    "    response2 = requests.get(geolocation_endpoint, params = params2)\n",
    "    end_address_data = response2.json()\n",
    "    \n",
    "\n",
    "    start_entry_point = start_address_data[\"results\"][0][\"entryPoints\"][0][\"position\"]\n",
    "    \n",
    "    end_entry_point = end_address_data[\"results\"][0][\"entryPoints\"][0][\"position\"]\n",
    "    \n",
    "    \n",
    "    start_point_string = str(start_entry_point['lat']) + \",\" + str(start_entry_point['lon'])\n",
    "    end_point_string = str(end_entry_point['lat']) + \",\" + str(end_entry_point['lon'])\n",
    "    \n",
    "    \n",
    "    return start_point_string, end_point_string;\n",
    "\n",
    "\n",
    "print(get_depature_and_destination_coords(start_address, end_address))"
   ]
  },
  {
   "cell_type": "code",
   "execution_count": 25,
   "id": "454d12b1",
   "metadata": {},
   "outputs": [],
   "source": [
    "def get_fastest_route(start_coords, end_coords ):\n",
    "    \n",
    "    route_endpoint = f'https://api.tomtom.com/routing/1/calculateRoute/{start_coords}:{end_coords}/json?&key={api_key}'\n",
    "\n",
    "    params = {\n",
    "        \"traffic\": \"false\",\n",
    "        \"travelMode\": \"car\",\n",
    "        \"routeType\": \"fastest\",\n",
    "        \"instructionsType\": \"text\",\n",
    "        \"language\": \"en-US\",\n",
    "        \"computeBestOrder\": \"false\",\n",
    "        }\n",
    "\n",
    "    response = requests.get(route_endpoint, params=params)\n",
    "    data = response.json()\n",
    "\n",
    "    route_geo = data[\"routes\"][0][\"legs\"][0][\"points\"]\n",
    "\n",
    "    points = [(c['latitude'], c['longitude']) for c in route_geo]\n",
    "\n",
    "    folium.PolyLine(locations=points, color='red').add_to(TomTom_map)\n",
    "    \n",
    "    bounds = TomTom_map.get_bounds()\n",
    "    TomTom_map.fit_bounds(bounds)\n",
    "    \n",
    "    instructions_list = data[\"routes\"][0][\"guidance\"][\"instructions\"]\n",
    "    \n",
    "    instruction_txt = []\n",
    "    \n",
    "    for instruct in instructions_list:\n",
    "        if \"combinedMessage\" in instruct:\n",
    "            instruction_txt.append(instruct[\"combinedMessage\"] + \".\\n\")\n",
    "        else:   \n",
    "            instruction_txt.append(instruct[\"message\"] + \"\\n\")\n",
    "    \n",
    "    return instruction_txt"
   ]
  },
  {
   "cell_type": "code",
   "execution_count": 36,
   "id": "3baca498",
   "metadata": {},
   "outputs": [
    {
     "data": {
      "text/plain": [
       "''"
      ]
     },
     "execution_count": 36,
     "metadata": {},
     "output_type": "execute_result"
    }
   ],
   "source": [
    "start_address = \"Morbærhaven 26L Albertslund 2620\"\n",
    "end_address = \"Nørgaardvej 30 Lyngby 2800\"\n",
    "\n",
    "start, end = get_depature_and_destination_coords(start_address, end_address)\n",
    "\n",
    "TomTom_map = initialise_map(start, end)\n",
    "\n",
    "instruction_txt = get_fastest_route(start, end)\n",
    "\n",
    "TomTom_map.save('map.html')\n",
    "\n",
    "browser = webdriver.Firefox()\n",
    "browser.get('file:///C:/Users/45319/Documents/GitHub/SU_Project/dma_folder/map.html')\n",
    "browser.save_screenshot('map.png')\n",
    "browser.quit()\n",
    "\n",
    "\n",
    "pdf = FPDF()\n",
    "pdf.add_page()\n",
    "pdf.image('map.png', x=10, y=10, w=190, h=120)\n",
    "pdf.ln(125)\n",
    "pdf.set_font(\"Arial\", size = 8)\n",
    "for elem in instruction_txt:\n",
    "    pdf.cell(170, 7, ln = 1, txt = elem)\n",
    "\n",
    "pdf.output(\"rutevejledning.pdf\")\n",
    "\n"
   ]
  }
 ],
 "metadata": {
  "kernelspec": {
   "display_name": "Python 3 (ipykernel)",
   "language": "python",
   "name": "python3"
  },
  "language_info": {
   "codemirror_mode": {
    "name": "ipython",
    "version": 3
   },
   "file_extension": ".py",
   "mimetype": "text/x-python",
   "name": "python",
   "nbconvert_exporter": "python",
   "pygments_lexer": "ipython3",
   "version": "3.9.13"
  }
 },
 "nbformat": 4,
 "nbformat_minor": 5
}
