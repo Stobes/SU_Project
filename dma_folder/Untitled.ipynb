{
 "cells": [
  {
   "cell_type": "code",
   "execution_count": 3,
   "id": "843d48f2",
   "metadata": {},
   "outputs": [],
   "source": [
    "#A. \tIn the Sharepoint folder “Exercises” are 3 .txt files with examples of text encrypted by Caesar encryption (key unknown) : Crypt1.txt, Crypt2.txt and Crypt3.txt.\n",
    "#\tEnglish alphabet has been used and only letters have been encrypted.\n",
    "\n",
    "#\tUse statistics to try to find the 3 keys.\n",
    "#\tCount the numbers of the different letters and assume \n",
    "#1.\te is the most common letter\n",
    "#2.\te is the second most common letter\n",
    "#3.\te is the third most common letter\n",
    "#4.\tt is the most common letter"
   ]
  },
  {
   "cell_type": "code",
   "execution_count": 47,
   "id": "fc5dec81",
   "metadata": {},
   "outputs": [],
   "source": [
    "\n",
    "def read_every_letter(*filename):\n",
    "    letter_count = {}\n",
    "    for files in filename:\n",
    "        \n",
    "        with open(files, 'r') as file:\n",
    "        \n",
    "            contents = file.read()\n",
    "        \n",
    "            for char in contents:\n",
    "                if char.isalpha:\n",
    "                    char = char.lower()\n",
    "                    if char in letter_count:\n",
    "                        letter_count[char] += 1\n",
    "                    else:\n",
    "                        letter_count[char] = 1\n",
    "    print(letter_count)"
   ]
  },
  {
   "cell_type": "code",
   "execution_count": 48,
   "id": "765f4210",
   "metadata": {
    "scrolled": true
   },
   "outputs": [
    {
     "name": "stdout",
     "output_type": "stream",
     "text": [
      "{'d': 26, ' ': 54, 'f': 12, 'w': 24, 'k': 10, 'g': 8, 'o': 16, 'r': 22, 'v': 8, 'i': 8, 'x': 5, 'q': 21, 's': 5, 'b': 6, 'l': 12, 'j': 3, 'z': 6, 'u': 14, 'e': 1, '\\n': 5, 'h': 28, 'n': 3, '.': 4, 'p': 8, 'a': 4, ',': 1, '!': 1}\n",
      "None\n"
     ]
    }
   ],
   "source": [
    "print(read_every_letter('crypt1.txt', 'crypt2.txt', 'crypt3.txt'))"
   ]
  },
  {
   "cell_type": "code",
   "execution_count": 34,
   "id": "bfb0f3cf",
   "metadata": {},
   "outputs": [],
   "source": [
    "\n",
    "def read_every_letter(filename):\n",
    "    with open(filename, 'r') as file:\n",
    "        \n",
    "        contents = file.read()\n",
    "        \n",
    "        for char in contents:\n",
    "            if char.isalpha:\n",
    "                char = char.lower()\n",
    "                \n",
    "                char += 1\n",
    "                \n",
    "        print(letter_count)"
   ]
  },
  {
   "cell_type": "code",
   "execution_count": 35,
   "id": "0a317eef",
   "metadata": {},
   "outputs": [
    {
     "ename": "TypeError",
     "evalue": "can only concatenate str (not \"int\") to str",
     "output_type": "error",
     "traceback": [
      "\u001b[1;31m---------------------------------------------------------------------------\u001b[0m",
      "\u001b[1;31mTypeError\u001b[0m                                 Traceback (most recent call last)",
      "\u001b[1;32m~\\AppData\\Local\\Temp\\ipykernel_21556\\842262073.py\u001b[0m in \u001b[0;36m<module>\u001b[1;34m\u001b[0m\n\u001b[1;32m----> 1\u001b[1;33m \u001b[0mprint\u001b[0m\u001b[1;33m(\u001b[0m\u001b[0mread_every_letter\u001b[0m\u001b[1;33m(\u001b[0m\u001b[1;34m'crypt1.txt'\u001b[0m\u001b[1;33m)\u001b[0m\u001b[1;33m)\u001b[0m\u001b[1;33m\u001b[0m\u001b[1;33m\u001b[0m\u001b[0m\n\u001b[0m",
      "\u001b[1;32m~\\AppData\\Local\\Temp\\ipykernel_21556\\1904032513.py\u001b[0m in \u001b[0;36mread_every_letter\u001b[1;34m(filename)\u001b[0m\n\u001b[0;32m      8\u001b[0m                 \u001b[0mchar\u001b[0m \u001b[1;33m=\u001b[0m \u001b[0mchar\u001b[0m\u001b[1;33m.\u001b[0m\u001b[0mlower\u001b[0m\u001b[1;33m(\u001b[0m\u001b[1;33m)\u001b[0m\u001b[1;33m\u001b[0m\u001b[1;33m\u001b[0m\u001b[0m\n\u001b[0;32m      9\u001b[0m \u001b[1;33m\u001b[0m\u001b[0m\n\u001b[1;32m---> 10\u001b[1;33m                 \u001b[0mchar\u001b[0m \u001b[1;33m+=\u001b[0m \u001b[1;36m1\u001b[0m\u001b[1;33m\u001b[0m\u001b[1;33m\u001b[0m\u001b[0m\n\u001b[0m\u001b[0;32m     11\u001b[0m \u001b[1;33m\u001b[0m\u001b[0m\n\u001b[0;32m     12\u001b[0m         \u001b[0mprint\u001b[0m\u001b[1;33m(\u001b[0m\u001b[0mletter_count\u001b[0m\u001b[1;33m)\u001b[0m\u001b[1;33m\u001b[0m\u001b[1;33m\u001b[0m\u001b[0m\n",
      "\u001b[1;31mTypeError\u001b[0m: can only concatenate str (not \"int\") to str"
     ]
    }
   ],
   "source": [
    "print(read_every_letter('crypt1.txt'))"
   ]
  }
 ],
 "metadata": {
  "kernelspec": {
   "display_name": "Python 3 (ipykernel)",
   "language": "python",
   "name": "python3"
  },
  "language_info": {
   "codemirror_mode": {
    "name": "ipython",
    "version": 3
   },
   "file_extension": ".py",
   "mimetype": "text/x-python",
   "name": "python",
   "nbconvert_exporter": "python",
   "pygments_lexer": "ipython3",
   "version": "3.9.13"
  }
 },
 "nbformat": 4,
 "nbformat_minor": 5
}
