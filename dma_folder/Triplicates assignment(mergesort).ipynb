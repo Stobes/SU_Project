{
 "cells": [
  {
   "cell_type": "code",
   "execution_count": 38,
   "id": "84d4fcb7",
   "metadata": {},
   "outputs": [],
   "source": [
    "import numpy"
   ]
  },
  {
   "cell_type": "code",
   "execution_count": 39,
   "id": "738e89a1",
   "metadata": {},
   "outputs": [],
   "source": [
    "list1 = ['Marion Ortega',\n",
    "'Kaden Frost',\n",
    "'Krish Sharp',\n",
    "'Romeo Strickland',\n",
    "'Jemima Hansen']\n",
    "\n",
    "list2 = ['Bruce Stephenson',\n",
    "'Betty Walters',\n",
    "'Theodore Walsh',\n",
    "'Krish Sharp',\n",
    "'Farrah Campbell']\n",
    "\n",
    "list3 = ['Pedro Stark',\n",
    "'Krish Sharp',\n",
    "'Aaminah Bonner',\n",
    "'Neha Montes',\n",
    "'Ines Dickson']"
   ]
  },
  {
   "cell_type": "code",
   "execution_count": 40,
   "id": "08dfbc8e",
   "metadata": {},
   "outputs": [],
   "source": [
    "def merge_sort(arr):\n",
    "    \n",
    "    if len(arr) <= 1:\n",
    "        return arr\n",
    "    \n",
    "    mid = len(arr) // 2\n",
    "    left = arr[:mid]\n",
    "    right = arr[mid:]\n",
    "    \n",
    "    sort_left = merge_sort(left)\n",
    "    sort_right = merge_sort(right)\n",
    "    \n",
    "    result = []\n",
    "    i = j = 0\n",
    "    while i < len(sort_left) and j < len(sort_right):\n",
    "        if sort_left[i] < sort_right[j]:\n",
    "            result.append(sort_left[i])\n",
    "            i += 1\n",
    "        else:\n",
    "            result.append(sort_right[j])\n",
    "            j += 1\n",
    "    result += sort_left[i:]\n",
    "    result += sort_right[j:]\n",
    "    \n",
    "    return result"
   ]
  },
  {
   "cell_type": "code",
   "execution_count": 41,
   "id": "f7641ae5",
   "metadata": {},
   "outputs": [
    {
     "name": "stdout",
     "output_type": "stream",
     "text": [
      "Krish Sharp\n"
     ]
    }
   ],
   "source": [
    "def find_common(arr1, arr2, arr3):\n",
    "    \n",
    "    i = j = k = 0\n",
    "    \n",
    "    while i < len(arr1) and j < len(arr2) and k < len(arr3):\n",
    "        if arr1[i] == arr2[j] and arr1[i] == arr3[k]: \n",
    "            return arr1[i]\n",
    "    \n",
    "        elif arr1[i] < arr2[j] or arr1[i] < arr3[k]:\n",
    "            i += 1\n",
    "        elif arr2[j] < arr1[i] or arr2[j] < arr3[k]:\n",
    "            j += 1\n",
    "        else:\n",
    "            k += 1\n",
    "\n",
    "print(find_common(merge_sort(list1), merge_sort(list2), merge_sort(list3)))\n",
    "        \n",
    "    \n",
    "    \n",
    "    \n"
   ]
  }
 ],
 "metadata": {
  "kernelspec": {
   "display_name": "Python 3 (ipykernel)",
   "language": "python",
   "name": "python3"
  },
  "language_info": {
   "codemirror_mode": {
    "name": "ipython",
    "version": 3
   },
   "file_extension": ".py",
   "mimetype": "text/x-python",
   "name": "python",
   "nbconvert_exporter": "python",
   "pygments_lexer": "ipython3",
   "version": "3.9.13"
  }
 },
 "nbformat": 4,
 "nbformat_minor": 5
}
