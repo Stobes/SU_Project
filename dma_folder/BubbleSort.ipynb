{
 "cells": [
  {
   "cell_type": "code",
   "execution_count": 2,
   "id": "7836b576",
   "metadata": {},
   "outputs": [],
   "source": [
    "import numpy as np\n",
    "import time"
   ]
  },
  {
   "cell_type": "code",
   "execution_count": 3,
   "id": "eaf37dae",
   "metadata": {},
   "outputs": [
    {
     "name": "stdout",
     "output_type": "stream",
     "text": [
      "([1, 2, 3, 4, 5, 6, 7, 8], 'Time', 0.0)\n"
     ]
    }
   ],
   "source": [
    "#Code bubbleSort\n",
    "numbers = [6,5,3,1,8,7,2,4]\n",
    "\n",
    "def bubbleSort(arr):\n",
    "    start = time.time()\n",
    "\n",
    "    tmp = 0\n",
    "    swapped = True\n",
    "\n",
    "    while swapped:\n",
    "        swapped = False\n",
    "        for i in range(len(arr)-1):\n",
    "            if arr[i] > arr[i+1]:\n",
    "                tmp = arr[i+1]\n",
    "                arr[i+1] = arr[i]\n",
    "                arr[i] = tmp\n",
    "                swapped = True\n",
    "\n",
    "    end = time.time()\n",
    "\n",
    "    return arr, 'Time', end-start\n",
    "\n",
    "print(bubbleSort(numbers))\n",
    "\n",
    "#Define its Big O\n",
    "#O(n2)\n",
    "\n",
    "#How does it preform?\n",
    "#Well?"
   ]
  }
 ],
 "metadata": {
  "kernelspec": {
   "display_name": "Python 3 (ipykernel)",
   "language": "python",
   "name": "python3"
  },
  "language_info": {
   "codemirror_mode": {
    "name": "ipython",
    "version": 3
   },
   "file_extension": ".py",
   "mimetype": "text/x-python",
   "name": "python",
   "nbconvert_exporter": "python",
   "pygments_lexer": "ipython3",
   "version": "3.9.13"
  }
 },
 "nbformat": 4,
 "nbformat_minor": 5
}
